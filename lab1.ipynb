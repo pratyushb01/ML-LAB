{
 "cells": [
  {
   "cell_type": "code",
   "execution_count": 2,
   "id": "b66a92ed",
   "metadata": {},
   "outputs": [
    {
     "name": "stdout",
     "output_type": "stream",
     "text": [
      "[[0 1 2]\n",
      " [3 4 5]\n",
      " [6 7 8]]\n"
     ]
    }
   ],
   "source": [
    "import numpy as np\n",
    "import pandas as pd\n",
    "\n",
    "x= np.array([0, 1, 2, 3, 4, 5, 6, 7, 8])\n",
    "y=np.reshape(x,(3,3))\n",
    "print(y)"
   ]
  },
  {
   "cell_type": "code",
   "execution_count": 11,
   "id": "e3b9ecac",
   "metadata": {},
   "outputs": [
    {
     "name": "stdout",
     "output_type": "stream",
     "text": [
      "[ 0 -1  2 -1  4 -1  6 -1  8]\n"
     ]
    }
   ],
   "source": [
    "for i in range(0,len(x)):\n",
    "    if(x[i]%2==1):\n",
    "        x[i]=-1\n",
    "print(x)"
   ]
  },
  {
   "cell_type": "code",
   "execution_count": 12,
   "id": "05503e68",
   "metadata": {},
   "outputs": [
    {
     "name": "stdout",
     "output_type": "stream",
     "text": [
      "[ 0 -1  2 -1  4 -1  6 -1  8]\n"
     ]
    }
   ],
   "source": [
    "x[x%2==1]=-1\n",
    "print(x)\n"
   ]
  },
  {
   "cell_type": "code",
   "execution_count": 13,
   "id": "e680e8c1",
   "metadata": {},
   "outputs": [
    {
     "name": "stdout",
     "output_type": "stream",
     "text": [
      "(array([1, 2, 4, 5, 6, 7, 8, 9]),)\n",
      "(array([0]),)\n"
     ]
    }
   ],
   "source": [
    "\n",
    "\n",
    "x = np.array([21, 64, 86, 22, 74, 55, 81, 79, 90, 89])\n",
    "y = np.array([21, 7, 3, 45, 10, 29, 55, 4, 37, 18])\n",
    "\n",
    "print(np.where(x > y))\n",
    "print(np.where(x == y))"
   ]
  },
  {
   "cell_type": "code",
   "execution_count": 19,
   "id": "2f99f656",
   "metadata": {},
   "outputs": [
    {
     "name": "stdout",
     "output_type": "stream",
     "text": [
      "[[ 0  1  2  3  4  5  6  7  8  9 10 11 12 13 14 15 16 17 18 19]\n",
      " [20 21 22 23 24 25 26 27 28 29 30 31 32 33 34 35 36 37 38 39]\n",
      " [40 41 42 43 44 45 46 47 48 49 50 51 52 53 54 55 56 57 58 59]\n",
      " [60 61 62 63 64 65 66 67 68 69 70 71 72 73 74 75 76 77 78 79]\n",
      " [80 81 82 83 84 85 86 87 88 89 90 91 92 93 94 95 96 97 98 99]]\n",
      "[[ 0  1  2  3]\n",
      " [20 21 22 23]\n",
      " [40 41 42 43]\n",
      " [60 61 62 63]\n",
      " [80 81 82 83]]\n"
     ]
    }
   ],
   "source": [
    "p= np.arange(100).reshape(5,-1) #as many columns as necessary to fit data; but 5 rows only\n",
    "print(p)\n",
    "q=p[:, :4]\n",
    "print(q)"
   ]
  },
  {
   "cell_type": "code",
   "execution_count": 4,
   "id": "0337332e",
   "metadata": {},
   "outputs": [
    {
     "name": "stdout",
     "output_type": "stream",
     "text": [
      "[33 30 31 39 37 34 40 32 37 36]\n"
     ]
    }
   ],
   "source": [
    "arr=np.random.randint(30,41,size=10)\n",
    "print(arr)"
   ]
  },
  {
   "cell_type": "code",
   "execution_count": 6,
   "id": "272723f3",
   "metadata": {},
   "outputs": [
    {
     "name": "stdout",
     "output_type": "stream",
     "text": [
      "[[ 8 10 13]\n",
      " [ 8 10 12]\n",
      " [ 8 10 13]]\n",
      "\n",
      "[[-6 -6 -7]\n",
      " [ 0  0  0]\n",
      " [ 6  6  7]]\n"
     ]
    }
   ],
   "source": [
    "A= ((1, 2, 3), (4, 5, 6), (7, 8, 10))\n",
    "B = ((7, 8, 10) ,(4, 5, 6), (1, 2, 3))\n",
    "\n",
    "A=np.array(A)\n",
    "B=np.array(B)\n",
    "C=A+B\n",
    "E=A-B\n",
    "print(C)\n",
    "print()\n",
    "print(E)\n"
   ]
  },
  {
   "cell_type": "code",
   "execution_count": 8,
   "id": "431cfd82",
   "metadata": {},
   "outputs": [
    {
     "name": "stdout",
     "output_type": "stream",
     "text": [
      "46\n",
      "[12 15 19]\n",
      "[31 30 31]\n"
     ]
    }
   ],
   "source": [
    "sum_a=np.sum(A)\n",
    "sum_cols_b=np.sum(B,axis=0)\n",
    "sum_rows_c=np.sum(C,axis=1)\n",
    "print(sum_a)\n",
    "print(sum_cols_b)\n",
    "print(sum_rows_c)\n"
   ]
  },
  {
   "cell_type": "code",
   "execution_count": 10,
   "id": "7b927f50",
   "metadata": {},
   "outputs": [
    {
     "name": "stdout",
     "output_type": "stream",
     "text": [
      "[[ 1  2  3]\n",
      " [ 4  5  6]\n",
      " [ 7  8 10]]\n",
      "[[ 7  8 10]\n",
      " [ 4  5  6]\n",
      " [ 1  2  3]]\n"
     ]
    }
   ],
   "source": [
    "print (A)\n",
    "print(B)"
   ]
  },
  {
   "cell_type": "code",
   "execution_count": null,
   "id": "31242486",
   "metadata": {},
   "outputs": [
    {
     "name": "stdout",
     "output_type": "stream",
     "text": [
      "[[ 18  24  31]\n",
      " [ 54  69  88]\n",
      " [ 91 116 148]]\n"
     ]
    }
   ],
   "source": [
    "D=A@B \n",
    "print(D)"
   ]
  },
  {
   "cell_type": "code",
   "execution_count": null,
   "id": "a232563c",
   "metadata": {},
   "outputs": [
    {
     "name": "stdout",
     "output_type": "stream",
     "text": [
      "[[ 8 10 13]\n",
      " [ 8 10 12]\n",
      " [ 8 10 13]]\n",
      "[[ 8  8  8]\n",
      " [10 10 10]\n",
      " [12 13 13]]\n"
     ]
    }
   ],
   "source": [
    "print(C)\n",
    "E_sorted = np.sort(C, axis=None).reshape(C.shape)\n",
    "print(E_sorted)"
   ]
  },
  {
   "cell_type": "code",
   "execution_count": 18,
   "id": "b2ab7f98",
   "metadata": {},
   "outputs": [
    {
     "name": "stdout",
     "output_type": "stream",
     "text": [
      "[[ 8 10 13]\n",
      " [ 8 10 12]\n",
      " [ 8 10 13]]\n",
      "[[ 8  8  8]\n",
      " [10 10 10]\n",
      " [12 13 13]]\n"
     ]
    }
   ],
   "source": [
    "print(C)\n",
    "E=np.reshape(C,(1,-1))\n",
    "E=np.sort(E)\n",
    "E=np.reshape(E,(3,3))\n",
    "print(E)"
   ]
  },
  {
   "cell_type": "code",
   "execution_count": 19,
   "id": "080c292c",
   "metadata": {},
   "outputs": [
    {
     "name": "stdout",
     "output_type": "stream",
     "text": [
      "[[ 8 10 12]\n",
      " [ 8 10 13]\n",
      " [ 8 10 13]]\n"
     ]
    }
   ],
   "source": [
    "print(np.transpose(E))"
   ]
  },
  {
   "cell_type": "code",
   "execution_count": 20,
   "id": "1556444c",
   "metadata": {},
   "outputs": [
    {
     "name": "stdout",
     "output_type": "stream",
     "text": [
      "[[ 8 10 12]\n",
      " [ 8 10 13]\n",
      " [ 8 10 13]]\n"
     ]
    }
   ],
   "source": [
    "print(E.T)"
   ]
  },
  {
   "cell_type": "code",
   "execution_count": null,
   "id": "14fb64ba",
   "metadata": {},
   "outputs": [],
   "source": []
  }
 ],
 "metadata": {
  "kernelspec": {
   "display_name": "Python 3",
   "language": "python",
   "name": "python3"
  },
  "language_info": {
   "codemirror_mode": {
    "name": "ipython",
    "version": 3
   },
   "file_extension": ".py",
   "mimetype": "text/x-python",
   "name": "python",
   "nbconvert_exporter": "python",
   "pygments_lexer": "ipython3",
   "version": "3.11.2"
  }
 },
 "nbformat": 4,
 "nbformat_minor": 5
}
